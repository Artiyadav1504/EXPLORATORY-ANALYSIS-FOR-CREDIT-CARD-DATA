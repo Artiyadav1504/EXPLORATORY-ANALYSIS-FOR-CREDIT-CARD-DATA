{
 "cells": [
  {
   "cell_type": "markdown",
   "id": "f5f5208c",
   "metadata": {},
   "source": [
    "# CREDIT CARD CASE STUDY"
   ]
  },
  {
   "cell_type": "code",
   "execution_count": 1,
   "id": "0c05f1ed",
   "metadata": {},
   "outputs": [],
   "source": [
    "import pandas as pd\n",
    "import numpy as np\n",
    "import matplotlib.pyplot as plt\n",
    "import datetime as dte\n",
    "import seaborn as sns\n",
    "import re\n"
   ]
  },
  {
   "cell_type": "code",
   "execution_count": 2,
   "id": "98fed01d",
   "metadata": {},
   "outputs": [],
   "source": [
    "# set the graphs to show in the jupyter notebook\n",
    "%matplotlib inline"
   ]
  },
  {
   "cell_type": "code",
   "execution_count": 3,
   "id": "30b06ac5",
   "metadata": {},
   "outputs": [],
   "source": [
    "# set seabor graphs to a better style\n",
    "sns.set(style=\"ticks\")"
   ]
  },
  {
   "cell_type": "code",
   "execution_count": 4,
   "id": "c82008f6",
   "metadata": {},
   "outputs": [],
   "source": [
    "Customer_Acq=pd.read_csv('C:/Users/DELL/Downloads/Basic Data Manipulation - Visualization Exercise/Case Study 2 - Credit Card Case Study/Customer Acqusition.csv')\n"
   ]
  },
  {
   "cell_type": "code",
   "execution_count": 5,
   "id": "66d10a8f",
   "metadata": {},
   "outputs": [],
   "source": [
    "spend=pd.read_csv('C:/Users/DELL/Downloads/Basic Data Manipulation - Visualization Exercise/Case Study 2 - Credit Card Case Study/spend.csv')\n"
   ]
  },
  {
   "cell_type": "code",
   "execution_count": 6,
   "id": "40744e2e",
   "metadata": {},
   "outputs": [],
   "source": [
    "repayment=pd.read_csv('C:/Users/DELL/Downloads/Basic Data Manipulation - Visualization Exercise/Case Study 2 - Credit Card Case Study/Repayment.csv')\n",
    "repayment.rename({'Amount':'repay_amount'},inplace=True)\n"
   ]
  },
  {
   "cell_type": "code",
   "execution_count": 7,
   "id": "208329ae",
   "metadata": {},
   "outputs": [
    {
     "name": "stdout",
     "output_type": "stream",
     "text": [
      "<class 'pandas.core.frame.DataFrame'>\n",
      "RangeIndex: 100 entries, 0 to 99\n",
      "Data columns (total 8 columns):\n",
      " #   Column    Non-Null Count  Dtype  \n",
      "---  ------    --------------  -----  \n",
      " 0   No        100 non-null    int64  \n",
      " 1   Customer  100 non-null    object \n",
      " 2   Age       100 non-null    int64  \n",
      " 3   City      100 non-null    object \n",
      " 4   Product   100 non-null    object \n",
      " 5   Limit     100 non-null    float64\n",
      " 6   Company   100 non-null    object \n",
      " 7   Segment   100 non-null    object \n",
      "dtypes: float64(1), int64(2), object(5)\n",
      "memory usage: 6.4+ KB\n"
     ]
    }
   ],
   "source": [
    "Customer_Acq.info()"
   ]
  },
  {
   "cell_type": "code",
   "execution_count": 8,
   "id": "b779408a",
   "metadata": {},
   "outputs": [],
   "source": [
    "# Renaming the columns\n",
    "spend.rename(columns={'Amount':'spend_amount'}, inplace=True)\n",
    "repayment.rename(columns={'Amount':'repay_amount'}, inplace=True)"
   ]
  },
  {
   "cell_type": "code",
   "execution_count": 9,
   "id": "736fbd8e",
   "metadata": {},
   "outputs": [],
   "source": [
    "# merging of spend with customer_acq and replayment with customer_acq\n",
    "spend_data=spend.merge(right=Customer_Acq,how='inner', right_on='Customer',left_on='Customer')\n",
    "repayment_data=repayment.merge(right=Customer_Acq,how='inner', right_on='Customer',left_on='Customer')"
   ]
  },
  {
   "cell_type": "code",
   "execution_count": 10,
   "id": "ad5f0070",
   "metadata": {},
   "outputs": [],
   "source": [
    "# droping extra columns\n",
    "spend_data.drop(['Sl No:','No'], axis=1, inplace=True)\n",
    "repayment_data.drop(['SL No:','No','Unnamed: 4'], axis=1, inplace=True)\n"
   ]
  },
  {
   "cell_type": "code",
   "execution_count": 11,
   "id": "c2bf65ce",
   "metadata": {},
   "outputs": [],
   "source": [
    "# datatype_conversion\n",
    "spend_data['Month']=spend_data['Month'].apply(lambda x:pd.to_datetime(x))\n",
    "repayment_data['Month']=repayment_data['Month'].apply(lambda x:pd.to_datetime(x))"
   ]
  },
  {
   "cell_type": "code",
   "execution_count": 12,
   "id": "871c2744",
   "metadata": {},
   "outputs": [],
   "source": [
    "\n",
    "spend_data.rename(columns={'Month':'spend_date'}, inplace=True)\n",
    "repayment_data.rename(columns={'Month':'repay_date'}, inplace=True)"
   ]
  },
  {
   "cell_type": "code",
   "execution_count": 13,
   "id": "975ed031",
   "metadata": {},
   "outputs": [],
   "source": [
    "#extract datepart-month\n",
    "spend_data['spend_year']=spend_data['spend_date'].dt.year\n",
    "spend_data['spend_month']=spend_data['spend_date'].dt.month\n",
    "repayment_data['repay_year']=repayment_data['repay_date'].dt.year\n",
    "repayment_data['repay_month']=repayment_data['repay_date'].dt.month"
   ]
  },
  {
   "cell_type": "markdown",
   "id": "e22e51a3",
   "metadata": {},
   "source": [
    "#### Following are some of Mr. Watson’s questions to a Consultant (like you) to understand the\n",
    "#### customers spend & repayment behavior.\n",
    "\n",
    "### 1a. In case age is less than 18, replace it with mean of age values"
   ]
  },
  {
   "cell_type": "code",
   "execution_count": 14,
   "id": "96b4783c",
   "metadata": {},
   "outputs": [
    {
     "name": "stderr",
     "output_type": "stream",
     "text": [
      "C:\\Users\\DELL\\AppData\\Local\\Temp\\ipykernel_9172\\2474105758.py:5: SettingWithCopyWarning: \n",
      "A value is trying to be set on a copy of a slice from a DataFrame\n",
      "\n",
      "See the caveats in the documentation: https://pandas.pydata.org/pandas-docs/stable/user_guide/indexing.html#returning-a-view-versus-a-copy\n",
      "  spend_data['Age'].loc[spend_data['Age']<18]=mean_age1\n",
      "C:\\Users\\DELL\\AppData\\Local\\Temp\\ipykernel_9172\\2474105758.py:6: SettingWithCopyWarning: \n",
      "A value is trying to be set on a copy of a slice from a DataFrame\n",
      "\n",
      "See the caveats in the documentation: https://pandas.pydata.org/pandas-docs/stable/user_guide/indexing.html#returning-a-view-versus-a-copy\n",
      "  repayment_data['Age'].loc[repayment_data['Age']<18]=mean_age2\n"
     ]
    }
   ],
   "source": [
    "# replacing age below 18 with mean of age values\n",
    "\n",
    "mean_age1=spend_data['Age'].mean()\n",
    "mean_age2=repayment_data['Age'].mean()\n",
    "spend_data['Age'].loc[spend_data['Age']<18]=mean_age1\n",
    "repayment_data['Age'].loc[repayment_data['Age']<18]=mean_age2"
   ]
  },
  {
   "cell_type": "markdown",
   "id": "ff42d4ee",
   "metadata": {},
   "source": [
    "###  1b. In case spend amount is more than the limit, replace it with 50% of that customer’s limit.\n"
   ]
  },
  {
   "cell_type": "code",
   "execution_count": 15,
   "id": "4f737f1a",
   "metadata": {},
   "outputs": [],
   "source": [
    "# Replacing more spend amount with 50% of that customer’s limit\n",
    "\n",
    "spend_data['spend_amount']=np.where(spend_data['spend_amount']>spend_data['Limit'],spend_data['Limit']*0.50,spend_data['spend_amount'])\n"
   ]
  },
  {
   "cell_type": "markdown",
   "id": "ee1bc98c",
   "metadata": {},
   "source": [
    "###  1c.  Incase the repayment amount is more than the limit, replace the repayment with the limit."
   ]
  },
  {
   "cell_type": "code",
   "execution_count": 16,
   "id": "78d5b023",
   "metadata": {},
   "outputs": [],
   "source": [
    "# Replacing more repayment amount with that customer’s limit\n",
    "\n",
    "repayment_data['repay_amount']=np.where(repayment_data['repay_amount']>repayment_data['Limit'],repayment_data['Limit'],repayment_data['repay_amount'])\n"
   ]
  },
  {
   "cell_type": "markdown",
   "id": "4976a7ee",
   "metadata": {},
   "source": [
    "### 2a. From the above dataset create the following summaries:      How many distinct customers exist\n"
   ]
  },
  {
   "cell_type": "code",
   "execution_count": 17,
   "id": "032ea460",
   "metadata": {},
   "outputs": [
    {
     "name": "stdout",
     "output_type": "stream",
     "text": [
      "total unique customers in repayment_data are : 100\n",
      "total unique customers in spend_data are     : 100\n"
     ]
    }
   ],
   "source": [
    "# distinct customers\n",
    "print(f'total unique customers in repayment_data are : {repayment_data.Customer.nunique()}')\n",
    "print(f'total unique customers in spend_data are     : {spend_data.Customer.nunique()}')"
   ]
  },
  {
   "cell_type": "markdown",
   "id": "d6bf63df",
   "metadata": {},
   "source": [
    "### 2b. How many distinct categories exist?"
   ]
  },
  {
   "cell_type": "code",
   "execution_count": 18,
   "id": "598e104b",
   "metadata": {},
   "outputs": [
    {
     "name": "stdout",
     "output_type": "stream",
     "text": [
      "total distinct categories in repayment_data are : 3\n",
      "total distinct categories in spend_data are     : 3\n"
     ]
    }
   ],
   "source": [
    "print(f'total distinct categories in repayment_data are : {repayment_data.Product.nunique()}')\n",
    "print(f'total distinct categories in spend_data are     : {spend_data.Product.nunique()}')"
   ]
  },
  {
   "cell_type": "markdown",
   "id": "5b9d569e",
   "metadata": {},
   "source": [
    "### 2c. What is the average monthly spend by customers?"
   ]
  },
  {
   "cell_type": "code",
   "execution_count": 19,
   "id": "ede1192b",
   "metadata": {},
   "outputs": [
    {
     "name": "stdout",
     "output_type": "stream",
     "text": [
      "average monthly spend by customers\n"
     ]
    },
    {
     "data": {
      "text/html": [
       "<div>\n",
       "<style scoped>\n",
       "    .dataframe tbody tr th:only-of-type {\n",
       "        vertical-align: middle;\n",
       "    }\n",
       "\n",
       "    .dataframe tbody tr th {\n",
       "        vertical-align: top;\n",
       "    }\n",
       "\n",
       "    .dataframe thead th {\n",
       "        text-align: right;\n",
       "    }\n",
       "</style>\n",
       "<table border=\"1\" class=\"dataframe\">\n",
       "  <thead>\n",
       "    <tr style=\"text-align: right;\">\n",
       "      <th></th>\n",
       "      <th>Customer</th>\n",
       "      <th>spend_month</th>\n",
       "      <th>spend_amount</th>\n",
       "    </tr>\n",
       "  </thead>\n",
       "  <tbody>\n",
       "    <tr>\n",
       "      <th>0</th>\n",
       "      <td>A1</td>\n",
       "      <td>1</td>\n",
       "      <td>372762.587143</td>\n",
       "    </tr>\n",
       "    <tr>\n",
       "      <th>1</th>\n",
       "      <td>A1</td>\n",
       "      <td>2</td>\n",
       "      <td>175235.690000</td>\n",
       "    </tr>\n",
       "    <tr>\n",
       "      <th>2</th>\n",
       "      <td>A1</td>\n",
       "      <td>4</td>\n",
       "      <td>261649.250000</td>\n",
       "    </tr>\n",
       "    <tr>\n",
       "      <th>3</th>\n",
       "      <td>A1</td>\n",
       "      <td>5</td>\n",
       "      <td>361141.310000</td>\n",
       "    </tr>\n",
       "    <tr>\n",
       "      <th>4</th>\n",
       "      <td>A1</td>\n",
       "      <td>8</td>\n",
       "      <td>344372.100000</td>\n",
       "    </tr>\n",
       "    <tr>\n",
       "      <th>...</th>\n",
       "      <td>...</td>\n",
       "      <td>...</td>\n",
       "      <td>...</td>\n",
       "    </tr>\n",
       "    <tr>\n",
       "      <th>573</th>\n",
       "      <td>A95</td>\n",
       "      <td>1</td>\n",
       "      <td>240401.500000</td>\n",
       "    </tr>\n",
       "    <tr>\n",
       "      <th>574</th>\n",
       "      <td>A96</td>\n",
       "      <td>1</td>\n",
       "      <td>54729.660000</td>\n",
       "    </tr>\n",
       "    <tr>\n",
       "      <th>575</th>\n",
       "      <td>A97</td>\n",
       "      <td>1</td>\n",
       "      <td>5000.000000</td>\n",
       "    </tr>\n",
       "    <tr>\n",
       "      <th>576</th>\n",
       "      <td>A98</td>\n",
       "      <td>1</td>\n",
       "      <td>5000.500000</td>\n",
       "    </tr>\n",
       "    <tr>\n",
       "      <th>577</th>\n",
       "      <td>A99</td>\n",
       "      <td>1</td>\n",
       "      <td>5001.000000</td>\n",
       "    </tr>\n",
       "  </tbody>\n",
       "</table>\n",
       "<p>578 rows × 3 columns</p>\n",
       "</div>"
      ],
      "text/plain": [
       "    Customer  spend_month   spend_amount\n",
       "0         A1            1  372762.587143\n",
       "1         A1            2  175235.690000\n",
       "2         A1            4  261649.250000\n",
       "3         A1            5  361141.310000\n",
       "4         A1            8  344372.100000\n",
       "..       ...          ...            ...\n",
       "573      A95            1  240401.500000\n",
       "574      A96            1   54729.660000\n",
       "575      A97            1    5000.000000\n",
       "576      A98            1    5000.500000\n",
       "577      A99            1    5001.000000\n",
       "\n",
       "[578 rows x 3 columns]"
      ]
     },
     "execution_count": 19,
     "metadata": {},
     "output_type": "execute_result"
    }
   ],
   "source": [
    "print('average monthly spend by customers')\n",
    "average_monthly_spend=spend_data.pivot_table(index=['Customer','spend_month'],values='spend_amount', aggfunc='mean').reset_index()\n",
    "average_monthly_spend"
   ]
  },
  {
   "cell_type": "markdown",
   "id": "80ec1cc7",
   "metadata": {},
   "source": [
    "### 2d. What is the average monthly repayment by customers?"
   ]
  },
  {
   "cell_type": "code",
   "execution_count": 20,
   "id": "9106bb5c",
   "metadata": {},
   "outputs": [
    {
     "name": "stdout",
     "output_type": "stream",
     "text": [
      "average monthly repayment by customers\n"
     ]
    },
    {
     "data": {
      "text/html": [
       "<div>\n",
       "<style scoped>\n",
       "    .dataframe tbody tr th:only-of-type {\n",
       "        vertical-align: middle;\n",
       "    }\n",
       "\n",
       "    .dataframe tbody tr th {\n",
       "        vertical-align: top;\n",
       "    }\n",
       "\n",
       "    .dataframe thead th {\n",
       "        text-align: right;\n",
       "    }\n",
       "</style>\n",
       "<table border=\"1\" class=\"dataframe\">\n",
       "  <thead>\n",
       "    <tr style=\"text-align: right;\">\n",
       "      <th></th>\n",
       "      <th>Customer</th>\n",
       "      <th>repay_month</th>\n",
       "      <th>repay_amount</th>\n",
       "    </tr>\n",
       "  </thead>\n",
       "  <tbody>\n",
       "    <tr>\n",
       "      <th>0</th>\n",
       "      <td>A1</td>\n",
       "      <td>1</td>\n",
       "      <td>343972.327143</td>\n",
       "    </tr>\n",
       "    <tr>\n",
       "      <th>1</th>\n",
       "      <td>A1</td>\n",
       "      <td>2</td>\n",
       "      <td>156374.760000</td>\n",
       "    </tr>\n",
       "    <tr>\n",
       "      <th>2</th>\n",
       "      <td>A1</td>\n",
       "      <td>4</td>\n",
       "      <td>254474.580000</td>\n",
       "    </tr>\n",
       "    <tr>\n",
       "      <th>3</th>\n",
       "      <td>A1</td>\n",
       "      <td>7</td>\n",
       "      <td>297176.740000</td>\n",
       "    </tr>\n",
       "    <tr>\n",
       "      <th>4</th>\n",
       "      <td>A1</td>\n",
       "      <td>9</td>\n",
       "      <td>186427.500000</td>\n",
       "    </tr>\n",
       "    <tr>\n",
       "      <th>...</th>\n",
       "      <td>...</td>\n",
       "      <td>...</td>\n",
       "      <td>...</td>\n",
       "    </tr>\n",
       "    <tr>\n",
       "      <th>553</th>\n",
       "      <td>A95</td>\n",
       "      <td>1</td>\n",
       "      <td>369405.960000</td>\n",
       "    </tr>\n",
       "    <tr>\n",
       "      <th>554</th>\n",
       "      <td>A96</td>\n",
       "      <td>1</td>\n",
       "      <td>100000.000000</td>\n",
       "    </tr>\n",
       "    <tr>\n",
       "      <th>555</th>\n",
       "      <td>A97</td>\n",
       "      <td>1</td>\n",
       "      <td>10000.000000</td>\n",
       "    </tr>\n",
       "    <tr>\n",
       "      <th>556</th>\n",
       "      <td>A98</td>\n",
       "      <td>1</td>\n",
       "      <td>10001.000000</td>\n",
       "    </tr>\n",
       "    <tr>\n",
       "      <th>557</th>\n",
       "      <td>A99</td>\n",
       "      <td>1</td>\n",
       "      <td>10002.000000</td>\n",
       "    </tr>\n",
       "  </tbody>\n",
       "</table>\n",
       "<p>558 rows × 3 columns</p>\n",
       "</div>"
      ],
      "text/plain": [
       "    Customer  repay_month   repay_amount\n",
       "0         A1            1  343972.327143\n",
       "1         A1            2  156374.760000\n",
       "2         A1            4  254474.580000\n",
       "3         A1            7  297176.740000\n",
       "4         A1            9  186427.500000\n",
       "..       ...          ...            ...\n",
       "553      A95            1  369405.960000\n",
       "554      A96            1  100000.000000\n",
       "555      A97            1   10000.000000\n",
       "556      A98            1   10001.000000\n",
       "557      A99            1   10002.000000\n",
       "\n",
       "[558 rows x 3 columns]"
      ]
     },
     "execution_count": 20,
     "metadata": {},
     "output_type": "execute_result"
    }
   ],
   "source": [
    "print('average monthly repayment by customers')\n",
    "average_monthly_repayment=repayment_data.pivot_table(index=['Customer','repay_month'],values='repay_amount', aggfunc='mean').reset_index()\n",
    "average_monthly_repayment"
   ]
  },
  {
   "cell_type": "markdown",
   "id": "f23b3985",
   "metadata": {},
   "source": [
    "### 2e. If the monthly rate of interest is 2.9%, what is the profit for the bank for each month?\n",
    "\n",
    "#####  (Profit is defined as interest earned on Monthly Profit. Monthly Profit = Monthly repayment– Monthly spend. \n",
    "#####  Interest is earned only on positive profits and not on negative amounts)"
   ]
  },
  {
   "cell_type": "code",
   "execution_count": 21,
   "id": "2611a4f2",
   "metadata": {},
   "outputs": [],
   "source": [
    "# Merge monthly infromation from spend_data and repayment_data \n",
    "\n",
    "Monthly_info=average_monthly_spend.merge(right=average_monthly_repayment,how='inner', left_on=['Customer','spend_month'], right_on=['Customer','repay_month'])\n"
   ]
  },
  {
   "cell_type": "code",
   "execution_count": 22,
   "id": "c90b545b",
   "metadata": {},
   "outputs": [],
   "source": [
    "# Monthly profit for bank per customer at interest rate 2.9%\n",
    "Monthly_info['monthly_profit']=Monthly_info['repay_amount']-Monthly_info['spend_amount']\n",
    "Monthly_info['actual_profit']=np.where(Monthly_info['monthly_profit']>0.0,Monthly_info['monthly_profit']*0.029,np.nan)"
   ]
  },
  {
   "cell_type": "code",
   "execution_count": 23,
   "id": "18e1df47",
   "metadata": {},
   "outputs": [
    {
     "data": {
      "text/html": [
       "<div>\n",
       "<style scoped>\n",
       "    .dataframe tbody tr th:only-of-type {\n",
       "        vertical-align: middle;\n",
       "    }\n",
       "\n",
       "    .dataframe tbody tr th {\n",
       "        vertical-align: top;\n",
       "    }\n",
       "\n",
       "    .dataframe thead th {\n",
       "        text-align: right;\n",
       "    }\n",
       "</style>\n",
       "<table border=\"1\" class=\"dataframe\">\n",
       "  <thead>\n",
       "    <tr style=\"text-align: right;\">\n",
       "      <th></th>\n",
       "      <th>spend_month</th>\n",
       "      <th>repay_month</th>\n",
       "      <th>actual_profit</th>\n",
       "    </tr>\n",
       "  </thead>\n",
       "  <tbody>\n",
       "    <tr>\n",
       "      <th>0</th>\n",
       "      <td>1</td>\n",
       "      <td>1</td>\n",
       "      <td>72943.526885</td>\n",
       "    </tr>\n",
       "    <tr>\n",
       "      <th>1</th>\n",
       "      <td>2</td>\n",
       "      <td>2</td>\n",
       "      <td>94212.942438</td>\n",
       "    </tr>\n",
       "    <tr>\n",
       "      <th>2</th>\n",
       "      <td>3</td>\n",
       "      <td>3</td>\n",
       "      <td>62443.081408</td>\n",
       "    </tr>\n",
       "    <tr>\n",
       "      <th>3</th>\n",
       "      <td>4</td>\n",
       "      <td>4</td>\n",
       "      <td>88573.632393</td>\n",
       "    </tr>\n",
       "    <tr>\n",
       "      <th>4</th>\n",
       "      <td>5</td>\n",
       "      <td>5</td>\n",
       "      <td>62732.066471</td>\n",
       "    </tr>\n",
       "    <tr>\n",
       "      <th>5</th>\n",
       "      <td>6</td>\n",
       "      <td>6</td>\n",
       "      <td>8530.659527</td>\n",
       "    </tr>\n",
       "    <tr>\n",
       "      <th>6</th>\n",
       "      <td>7</td>\n",
       "      <td>7</td>\n",
       "      <td>34100.906425</td>\n",
       "    </tr>\n",
       "    <tr>\n",
       "      <th>7</th>\n",
       "      <td>8</td>\n",
       "      <td>8</td>\n",
       "      <td>28955.409117</td>\n",
       "    </tr>\n",
       "    <tr>\n",
       "      <th>8</th>\n",
       "      <td>9</td>\n",
       "      <td>9</td>\n",
       "      <td>31579.855273</td>\n",
       "    </tr>\n",
       "    <tr>\n",
       "      <th>9</th>\n",
       "      <td>10</td>\n",
       "      <td>10</td>\n",
       "      <td>21708.899750</td>\n",
       "    </tr>\n",
       "    <tr>\n",
       "      <th>10</th>\n",
       "      <td>11</td>\n",
       "      <td>11</td>\n",
       "      <td>66125.609736</td>\n",
       "    </tr>\n",
       "    <tr>\n",
       "      <th>11</th>\n",
       "      <td>12</td>\n",
       "      <td>12</td>\n",
       "      <td>19445.827620</td>\n",
       "    </tr>\n",
       "  </tbody>\n",
       "</table>\n",
       "</div>"
      ],
      "text/plain": [
       "    spend_month  repay_month  actual_profit\n",
       "0             1            1   72943.526885\n",
       "1             2            2   94212.942438\n",
       "2             3            3   62443.081408\n",
       "3             4            4   88573.632393\n",
       "4             5            5   62732.066471\n",
       "5             6            6    8530.659527\n",
       "6             7            7   34100.906425\n",
       "7             8            8   28955.409117\n",
       "8             9            9   31579.855273\n",
       "9            10           10   21708.899750\n",
       "10           11           11   66125.609736\n",
       "11           12           12   19445.827620"
      ]
     },
     "execution_count": 23,
     "metadata": {},
     "output_type": "execute_result"
    }
   ],
   "source": [
    "# monthwise total profit for  the bank\n",
    "Monthly_info.groupby(['spend_month','repay_month'])['actual_profit'].agg(sum).reset_index()"
   ]
  },
  {
   "cell_type": "markdown",
   "id": "41055880",
   "metadata": {},
   "source": [
    "### 2f. What are the top 5 product types?"
   ]
  },
  {
   "cell_type": "code",
   "execution_count": 24,
   "id": "a9873fd0",
   "metadata": {},
   "outputs": [
    {
     "name": "stdout",
     "output_type": "stream",
     "text": [
      "Top 5 product types are \n"
     ]
    },
    {
     "data": {
      "text/html": [
       "<div>\n",
       "<style scoped>\n",
       "    .dataframe tbody tr th:only-of-type {\n",
       "        vertical-align: middle;\n",
       "    }\n",
       "\n",
       "    .dataframe tbody tr th {\n",
       "        vertical-align: top;\n",
       "    }\n",
       "\n",
       "    .dataframe thead th {\n",
       "        text-align: right;\n",
       "    }\n",
       "</style>\n",
       "<table border=\"1\" class=\"dataframe\">\n",
       "  <thead>\n",
       "    <tr style=\"text-align: right;\">\n",
       "      <th></th>\n",
       "      <th>Type</th>\n",
       "      <th>spend_amount</th>\n",
       "    </tr>\n",
       "  </thead>\n",
       "  <tbody>\n",
       "    <tr>\n",
       "      <th>10</th>\n",
       "      <td>PETRO</td>\n",
       "      <td>28597384.98</td>\n",
       "    </tr>\n",
       "    <tr>\n",
       "      <th>4</th>\n",
       "      <td>CAMERA</td>\n",
       "      <td>27690738.44</td>\n",
       "    </tr>\n",
       "    <tr>\n",
       "      <th>7</th>\n",
       "      <td>FOOD</td>\n",
       "      <td>20519243.60</td>\n",
       "    </tr>\n",
       "    <tr>\n",
       "      <th>0</th>\n",
       "      <td>AIR TICKET</td>\n",
       "      <td>20155847.12</td>\n",
       "    </tr>\n",
       "    <tr>\n",
       "      <th>14</th>\n",
       "      <td>TRAIN TICKET</td>\n",
       "      <td>19995825.72</td>\n",
       "    </tr>\n",
       "  </tbody>\n",
       "</table>\n",
       "</div>"
      ],
      "text/plain": [
       "            Type  spend_amount\n",
       "10         PETRO   28597384.98\n",
       "4         CAMERA   27690738.44\n",
       "7           FOOD   20519243.60\n",
       "0     AIR TICKET   20155847.12\n",
       "14  TRAIN TICKET   19995825.72"
      ]
     },
     "execution_count": 24,
     "metadata": {},
     "output_type": "execute_result"
    }
   ],
   "source": [
    "print('Top 5 product types are ')\n",
    "spend_data.groupby('Type')['spend_amount'].agg('sum').reset_index().sort_values(by='spend_amount',ascending=False).head(5)\n",
    "\n"
   ]
  },
  {
   "cell_type": "markdown",
   "id": "dc397909",
   "metadata": {},
   "source": [
    "### 2g. Which city is having maximum spend?"
   ]
  },
  {
   "cell_type": "code",
   "execution_count": 25,
   "id": "cc713c73",
   "metadata": {},
   "outputs": [
    {
     "name": "stdout",
     "output_type": "stream",
     "text": [
      "City with maximum spend amount is:\n"
     ]
    },
    {
     "data": {
      "text/html": [
       "<div>\n",
       "<style scoped>\n",
       "    .dataframe tbody tr th:only-of-type {\n",
       "        vertical-align: middle;\n",
       "    }\n",
       "\n",
       "    .dataframe tbody tr th {\n",
       "        vertical-align: top;\n",
       "    }\n",
       "\n",
       "    .dataframe thead th {\n",
       "        text-align: right;\n",
       "    }\n",
       "</style>\n",
       "<table border=\"1\" class=\"dataframe\">\n",
       "  <thead>\n",
       "    <tr style=\"text-align: right;\">\n",
       "      <th></th>\n",
       "      <th>City</th>\n",
       "      <th>spend_amount</th>\n",
       "    </tr>\n",
       "  </thead>\n",
       "  <tbody>\n",
       "    <tr>\n",
       "      <th>0</th>\n",
       "      <td>COCHIN</td>\n",
       "      <td>45963513.5</td>\n",
       "    </tr>\n",
       "  </tbody>\n",
       "</table>\n",
       "</div>"
      ],
      "text/plain": [
       "     City  spend_amount\n",
       "0  COCHIN    45963513.5"
      ]
     },
     "execution_count": 25,
     "metadata": {},
     "output_type": "execute_result"
    }
   ],
   "source": [
    "print('City with maximum spend amount is:')\n",
    "spend_data.groupby('City')['spend_amount'].agg('sum').reset_index().sort_values(by='spend_amount', ascending=False).reset_index(drop=True).head(1)"
   ]
  },
  {
   "cell_type": "markdown",
   "id": "c09faa31",
   "metadata": {},
   "source": [
    "### 2h. Which age group is spending more money?"
   ]
  },
  {
   "cell_type": "code",
   "execution_count": 26,
   "id": "8e49f30b",
   "metadata": {},
   "outputs": [
    {
     "name": "stdout",
     "output_type": "stream",
     "text": [
      "customers with age 28yrs are spending more amount:\n"
     ]
    },
    {
     "data": {
      "text/html": [
       "<div>\n",
       "<style scoped>\n",
       "    .dataframe tbody tr th:only-of-type {\n",
       "        vertical-align: middle;\n",
       "    }\n",
       "\n",
       "    .dataframe tbody tr th {\n",
       "        vertical-align: top;\n",
       "    }\n",
       "\n",
       "    .dataframe thead th {\n",
       "        text-align: right;\n",
       "    }\n",
       "</style>\n",
       "<table border=\"1\" class=\"dataframe\">\n",
       "  <thead>\n",
       "    <tr style=\"text-align: right;\">\n",
       "      <th></th>\n",
       "      <th>Age</th>\n",
       "      <th>spend_amount</th>\n",
       "    </tr>\n",
       "  </thead>\n",
       "  <tbody>\n",
       "    <tr>\n",
       "      <th>0</th>\n",
       "      <td>28.0</td>\n",
       "      <td>17365270.23</td>\n",
       "    </tr>\n",
       "  </tbody>\n",
       "</table>\n",
       "</div>"
      ],
      "text/plain": [
       "    Age  spend_amount\n",
       "0  28.0   17365270.23"
      ]
     },
     "execution_count": 26,
     "metadata": {},
     "output_type": "execute_result"
    }
   ],
   "source": [
    "print('customers with age 28yrs are spending more amount:')\n",
    "spend_data.groupby('Age')['spend_amount'].agg('sum').reset_index().sort_values(by='spend_amount', ascending=False).reset_index(drop=True).head(1)"
   ]
  },
  {
   "cell_type": "markdown",
   "id": "fae42d20",
   "metadata": {},
   "source": [
    "### 2i. Who are the top 10 customers in terms of repayment?"
   ]
  },
  {
   "cell_type": "code",
   "execution_count": 27,
   "id": "2eb47018",
   "metadata": {},
   "outputs": [
    {
     "name": "stdout",
     "output_type": "stream",
     "text": [
      "top 10 customers in terms of repayment are:\n"
     ]
    },
    {
     "data": {
      "text/html": [
       "<div>\n",
       "<style scoped>\n",
       "    .dataframe tbody tr th:only-of-type {\n",
       "        vertical-align: middle;\n",
       "    }\n",
       "\n",
       "    .dataframe tbody tr th {\n",
       "        vertical-align: top;\n",
       "    }\n",
       "\n",
       "    .dataframe thead th {\n",
       "        text-align: right;\n",
       "    }\n",
       "</style>\n",
       "<table border=\"1\" class=\"dataframe\">\n",
       "  <thead>\n",
       "    <tr style=\"text-align: right;\">\n",
       "      <th></th>\n",
       "      <th>Customer</th>\n",
       "      <th>repay_amount</th>\n",
       "    </tr>\n",
       "  </thead>\n",
       "  <tbody>\n",
       "    <tr>\n",
       "      <th>0</th>\n",
       "      <td>A77</td>\n",
       "      <td>3159.62</td>\n",
       "    </tr>\n",
       "    <tr>\n",
       "      <th>1</th>\n",
       "      <td>A97</td>\n",
       "      <td>10000.00</td>\n",
       "    </tr>\n",
       "    <tr>\n",
       "      <th>2</th>\n",
       "      <td>A98</td>\n",
       "      <td>10001.00</td>\n",
       "    </tr>\n",
       "    <tr>\n",
       "      <th>3</th>\n",
       "      <td>A99</td>\n",
       "      <td>10002.00</td>\n",
       "    </tr>\n",
       "    <tr>\n",
       "      <th>4</th>\n",
       "      <td>A83</td>\n",
       "      <td>10002.00</td>\n",
       "    </tr>\n",
       "    <tr>\n",
       "      <th>5</th>\n",
       "      <td>A69</td>\n",
       "      <td>20000.00</td>\n",
       "    </tr>\n",
       "    <tr>\n",
       "      <th>6</th>\n",
       "      <td>A70</td>\n",
       "      <td>20002.00</td>\n",
       "    </tr>\n",
       "    <tr>\n",
       "      <th>7</th>\n",
       "      <td>A71</td>\n",
       "      <td>20004.00</td>\n",
       "    </tr>\n",
       "    <tr>\n",
       "      <th>8</th>\n",
       "      <td>A78</td>\n",
       "      <td>55344.81</td>\n",
       "    </tr>\n",
       "    <tr>\n",
       "      <th>9</th>\n",
       "      <td>A100</td>\n",
       "      <td>69551.19</td>\n",
       "    </tr>\n",
       "  </tbody>\n",
       "</table>\n",
       "</div>"
      ],
      "text/plain": [
       "  Customer  repay_amount\n",
       "0      A77       3159.62\n",
       "1      A97      10000.00\n",
       "2      A98      10001.00\n",
       "3      A99      10002.00\n",
       "4      A83      10002.00\n",
       "5      A69      20000.00\n",
       "6      A70      20002.00\n",
       "7      A71      20004.00\n",
       "8      A78      55344.81\n",
       "9     A100      69551.19"
      ]
     },
     "execution_count": 27,
     "metadata": {},
     "output_type": "execute_result"
    }
   ],
   "source": [
    "print('top 10 customers in terms of repayment are:')\n",
    "repayment_data.groupby('Customer')['repay_amount'].agg('sum').reset_index().sort_values(by='repay_amount').reset_index(drop=True).head(10)"
   ]
  },
  {
   "cell_type": "markdown",
   "id": "0006d2cf",
   "metadata": {},
   "source": [
    "### 3. Calculate the city wise spend on each product on yearly basis. Also include a graphical representation for  the same."
   ]
  },
  {
   "cell_type": "code",
   "execution_count": 28,
   "id": "b6c1af2e",
   "metadata": {},
   "outputs": [
    {
     "name": "stdout",
     "output_type": "stream",
     "text": [
      "City with maximum spend amount is:\n"
     ]
    },
    {
     "data": {
      "text/html": [
       "<div>\n",
       "<style scoped>\n",
       "    .dataframe tbody tr th:only-of-type {\n",
       "        vertical-align: middle;\n",
       "    }\n",
       "\n",
       "    .dataframe tbody tr th {\n",
       "        vertical-align: top;\n",
       "    }\n",
       "\n",
       "    .dataframe thead tr th {\n",
       "        text-align: left;\n",
       "    }\n",
       "\n",
       "    .dataframe thead tr:last-of-type th {\n",
       "        text-align: right;\n",
       "    }\n",
       "</style>\n",
       "<table border=\"1\" class=\"dataframe\">\n",
       "  <thead>\n",
       "    <tr>\n",
       "      <th>Product</th>\n",
       "      <th colspan=\"3\" halign=\"left\">Gold</th>\n",
       "      <th colspan=\"3\" halign=\"left\">Platimum</th>\n",
       "      <th colspan=\"3\" halign=\"left\">Silver</th>\n",
       "    </tr>\n",
       "    <tr>\n",
       "      <th>spend_year</th>\n",
       "      <th>2004</th>\n",
       "      <th>2005</th>\n",
       "      <th>2006</th>\n",
       "      <th>2004</th>\n",
       "      <th>2005</th>\n",
       "      <th>2006</th>\n",
       "      <th>2004</th>\n",
       "      <th>2005</th>\n",
       "      <th>2006</th>\n",
       "    </tr>\n",
       "    <tr>\n",
       "      <th>City</th>\n",
       "      <th></th>\n",
       "      <th></th>\n",
       "      <th></th>\n",
       "      <th></th>\n",
       "      <th></th>\n",
       "      <th></th>\n",
       "      <th></th>\n",
       "      <th></th>\n",
       "      <th></th>\n",
       "    </tr>\n",
       "  </thead>\n",
       "  <tbody>\n",
       "    <tr>\n",
       "      <th>BANGALORE</th>\n",
       "      <td>9289878.54</td>\n",
       "      <td>12892362.99</td>\n",
       "      <td>12030611.09</td>\n",
       "      <td>1112732.30</td>\n",
       "      <td>912284.97</td>\n",
       "      <td>685831.27</td>\n",
       "      <td>1291852.58</td>\n",
       "      <td>830612.34</td>\n",
       "      <td>1415480.94</td>\n",
       "    </tr>\n",
       "    <tr>\n",
       "      <th>BOMBAY</th>\n",
       "      <td>6987853.53</td>\n",
       "      <td>8983018.28</td>\n",
       "      <td>7917144.31</td>\n",
       "      <td>897264.94</td>\n",
       "      <td>711804.94</td>\n",
       "      <td>972130.01</td>\n",
       "      <td>532089.03</td>\n",
       "      <td>508988.54</td>\n",
       "      <td>1092833.80</td>\n",
       "    </tr>\n",
       "    <tr>\n",
       "      <th>CALCUTTA</th>\n",
       "      <td>7477140.98</td>\n",
       "      <td>10303355.80</td>\n",
       "      <td>11167532.77</td>\n",
       "      <td>2037690.30</td>\n",
       "      <td>4434696.31</td>\n",
       "      <td>3589606.66</td>\n",
       "      <td>500006.00</td>\n",
       "      <td>440147.06</td>\n",
       "      <td>1157956.42</td>\n",
       "    </tr>\n",
       "    <tr>\n",
       "      <th>CHENNAI</th>\n",
       "      <td>1059618.50</td>\n",
       "      <td>3740945.58</td>\n",
       "      <td>2704288.62</td>\n",
       "      <td>3535652.38</td>\n",
       "      <td>5053956.32</td>\n",
       "      <td>5024923.40</td>\n",
       "      <td>282056.86</td>\n",
       "      <td>377184.49</td>\n",
       "      <td>350009.50</td>\n",
       "    </tr>\n",
       "    <tr>\n",
       "      <th>COCHIN</th>\n",
       "      <td>7315850.15</td>\n",
       "      <td>12110613.03</td>\n",
       "      <td>10499142.38</td>\n",
       "      <td>3419904.07</td>\n",
       "      <td>4960921.71</td>\n",
       "      <td>4920592.29</td>\n",
       "      <td>814229.62</td>\n",
       "      <td>652269.38</td>\n",
       "      <td>1269990.87</td>\n",
       "    </tr>\n",
       "    <tr>\n",
       "      <th>DELHI</th>\n",
       "      <td>2806495.00</td>\n",
       "      <td>1964845.27</td>\n",
       "      <td>2957103.32</td>\n",
       "      <td>283512.89</td>\n",
       "      <td>494157.86</td>\n",
       "      <td>176788.72</td>\n",
       "      <td>768172.30</td>\n",
       "      <td>612311.21</td>\n",
       "      <td>854899.97</td>\n",
       "    </tr>\n",
       "    <tr>\n",
       "      <th>PATNA</th>\n",
       "      <td>2072567.90</td>\n",
       "      <td>3252615.77</td>\n",
       "      <td>2276181.69</td>\n",
       "      <td>1113069.60</td>\n",
       "      <td>2883231.07</td>\n",
       "      <td>1256137.65</td>\n",
       "      <td>756684.10</td>\n",
       "      <td>950094.19</td>\n",
       "      <td>700005.00</td>\n",
       "    </tr>\n",
       "    <tr>\n",
       "      <th>TRIVANDRUM</th>\n",
       "      <td>2415102.84</td>\n",
       "      <td>1240375.85</td>\n",
       "      <td>2735710.87</td>\n",
       "      <td>2161676.67</td>\n",
       "      <td>3601443.30</td>\n",
       "      <td>2147403.75</td>\n",
       "      <td>209667.48</td>\n",
       "      <td>269912.99</td>\n",
       "      <td>555862.12</td>\n",
       "    </tr>\n",
       "  </tbody>\n",
       "</table>\n",
       "</div>"
      ],
      "text/plain": [
       "Product           Gold                              Platimum              \\\n",
       "spend_year        2004         2005         2006        2004        2005   \n",
       "City                                                                       \n",
       "BANGALORE   9289878.54  12892362.99  12030611.09  1112732.30   912284.97   \n",
       "BOMBAY      6987853.53   8983018.28   7917144.31   897264.94   711804.94   \n",
       "CALCUTTA    7477140.98  10303355.80  11167532.77  2037690.30  4434696.31   \n",
       "CHENNAI     1059618.50   3740945.58   2704288.62  3535652.38  5053956.32   \n",
       "COCHIN      7315850.15  12110613.03  10499142.38  3419904.07  4960921.71   \n",
       "DELHI       2806495.00   1964845.27   2957103.32   283512.89   494157.86   \n",
       "PATNA       2072567.90   3252615.77   2276181.69  1113069.60  2883231.07   \n",
       "TRIVANDRUM  2415102.84   1240375.85   2735710.87  2161676.67  3601443.30   \n",
       "\n",
       "Product                     Silver                         \n",
       "spend_year        2006        2004       2005        2006  \n",
       "City                                                       \n",
       "BANGALORE    685831.27  1291852.58  830612.34  1415480.94  \n",
       "BOMBAY       972130.01   532089.03  508988.54  1092833.80  \n",
       "CALCUTTA    3589606.66   500006.00  440147.06  1157956.42  \n",
       "CHENNAI     5024923.40   282056.86  377184.49   350009.50  \n",
       "COCHIN      4920592.29   814229.62  652269.38  1269990.87  \n",
       "DELHI        176788.72   768172.30  612311.21   854899.97  \n",
       "PATNA       1256137.65   756684.10  950094.19   700005.00  \n",
       "TRIVANDRUM  2147403.75   209667.48  269912.99   555862.12  "
      ]
     },
     "execution_count": 28,
     "metadata": {},
     "output_type": "execute_result"
    }
   ],
   "source": [
    "print('City with maximum spend amount is:')\n",
    "\n",
    "spend_city_wise=pd.pivot_table(data = spend_data, index = 'City', columns=['Product','spend_year'],values='spend_amount', aggfunc='sum')\n",
    "\n",
    "spend_city_wise"
   ]
  },
  {
   "cell_type": "code",
   "execution_count": 29,
   "id": "a3830bae",
   "metadata": {},
   "outputs": [
    {
     "data": {
      "image/png": "[encoded data removed]",
      "text/plain": [
       "<Figure size 640x480 with 1 Axes>"
      ]
     },
     "metadata": {},
     "output_type": "display_data"
    }
   ],
   "source": [
    "spend_city_wise.plot(kind='barh',stacked=True)\n",
    "\n",
    "plt.show()"
   ]
  },
  {
   "cell_type": "markdown",
   "id": "fe6223b5",
   "metadata": {},
   "source": [
    "## 4. Create graphs"
   ]
  },
  {
   "cell_type": "markdown",
   "id": "176bce83",
   "metadata": {},
   "source": [
    "\n",
    "### 4a. Monthly comparison of total spends, city wise\n"
   ]
  },
  {
   "cell_type": "code",
   "execution_count": 30,
   "id": "3eca0f78",
   "metadata": {},
   "outputs": [],
   "source": [
    "Monthly_comparison=spend_data.pivot_table(index='City', columns='spend_month',values='spend_amount',aggfunc='sum')"
   ]
  },
  {
   "cell_type": "code",
   "execution_count": 31,
   "id": "b8b23d4b",
   "metadata": {},
   "outputs": [
    {
     "data": {
      "image/png": "[encoded data removed]",
      "text/plain": [
       "<Figure size 640x480 with 1 Axes>"
      ]
     },
     "metadata": {},
     "output_type": "display_data"
    }
   ],
   "source": [
    "Monthly_comparison.plot(kind='bar', stacked=True)\n",
    "plt.title('Monthly comparison of total spends, city wise')\n",
    "plt.xlabel('City')\n",
    "plt.ylabel('Amount Spend')\n",
    "plt.show()"
   ]
  },
  {
   "cell_type": "markdown",
   "id": "02ed588b",
   "metadata": {},
   "source": [
    "### 4b. Comparison of yearly spend on air tickets"
   ]
  },
  {
   "cell_type": "code",
   "execution_count": 32,
   "id": "7b2cc892",
   "metadata": {},
   "outputs": [
    {
     "data": {
      "image/png": "[encoded data removed]",
      "text/plain": [
       "<Figure size 640x480 with 1 Axes>"
      ]
     },
     "metadata": {},
     "output_type": "display_data"
    }
   ],
   "source": [
    "air_ticket_data=pd.pivot_table(data = spend_data[spend_data.Type=='AIR TICKET'],index ='Type',columns='spend_year',values='spend_amount', aggfunc='sum')\n",
    "air_ticket_data.plot(kind='bar')\n",
    "plt.ylabel('Amount_spend')\n",
    "plt.show()"
   ]
  },
  {
   "cell_type": "markdown",
   "id": "0a1205f9",
   "metadata": {},
   "source": [
    "### 4c. Comparison of monthly spend for each product (look for any seasonality that exists in terms of spend)"
   ]
  },
  {
   "cell_type": "code",
   "execution_count": 33,
   "id": "ef44f7ba",
   "metadata": {},
   "outputs": [
    {
     "data": {
      "image/png": "[encoded data removed]",
      "text/plain": [
       "<Figure size 640x480 with 1 Axes>"
      ]
     },
     "metadata": {},
     "output_type": "display_data"
    }
   ],
   "source": [
    "product_monthly_spend=spend_data.pivot_table(index='Product', columns='spend_month',values='spend_amount',aggfunc='sum')\n",
    "product_monthly_spend.plot(kind='bar')\n",
    "plt.ylabel('Amount_spend')\n",
    "plt.show()"
   ]
  },
  {
   "cell_type": "markdown",
   "id": "e0538ab2",
   "metadata": {},
   "source": [
    "Observations from above chart (Comparison of monthly spend for each product):\n",
    "1. More spend is on Gold, then platinum and then silver.\n",
    "2. maximum spend occures during first 5 months\n",
    "3. After 5 month there is a significant decreament in the spend.\n",
    "4. There is a significant increament in spend in 11th month and then is again decrease and go to minimum.\n"
   ]
  },
  {
   "cell_type": "markdown",
   "id": "7fc962dc",
   "metadata": {},
   "source": [
    "### 5. Write user defined PYTHON function to perform the following analysis:\n",
    "#### You need to find top 10 customers for each city in terms of their repayment amount by\n",
    "#### different products and by different time periods i.e. year or month. The user should be able\n",
    "#### to specify the product (Gold/Silver/Platinum) and time period (yearly or monthly) and the\n",
    "#### function should automatically take these inputs while identifying the top 10 customers"
   ]
  },
  {
   "cell_type": "code",
   "execution_count": 34,
   "id": "9118b32b",
   "metadata": {},
   "outputs": [],
   "source": [
    "def top_customers(prod_cat,time_period):\n",
    "    filtered_data=repayment_data.loc[(repayment_data.Product == prod_cat)]\n",
    "    result1=filtered_data.groupby(['Customer','City','Product',time_period]).agg({'repay_amount':'sum'})\n",
    "    result2=result1.reset_index().sort_values('repay_amount',ascending=False).head(10)\n",
    "    return result2"
   ]
  },
  {
   "cell_type": "code",
   "execution_count": 35,
   "id": "7ae1e16d",
   "metadata": {},
   "outputs": [
    {
     "name": "stdout",
     "output_type": "stream",
     "text": [
      "Choose the product name from these options: (Gold/Silver/Platinum)   Gold\n",
      "Choose time period from these options: (repay_year/repay_month)   repay_month\n"
     ]
    },
    {
     "data": {
      "text/html": [
       "<div>\n",
       "<style scoped>\n",
       "    .dataframe tbody tr th:only-of-type {\n",
       "        vertical-align: middle;\n",
       "    }\n",
       "\n",
       "    .dataframe tbody tr th {\n",
       "        vertical-align: top;\n",
       "    }\n",
       "\n",
       "    .dataframe thead th {\n",
       "        text-align: right;\n",
       "    }\n",
       "</style>\n",
       "<table border=\"1\" class=\"dataframe\">\n",
       "  <thead>\n",
       "    <tr style=\"text-align: right;\">\n",
       "      <th></th>\n",
       "      <th>Customer</th>\n",
       "      <th>City</th>\n",
       "      <th>Product</th>\n",
       "      <th>repay_month</th>\n",
       "      <th>repay_amount</th>\n",
       "    </tr>\n",
       "  </thead>\n",
       "  <tbody>\n",
       "    <tr>\n",
       "      <th>176</th>\n",
       "      <td>A61</td>\n",
       "      <td>COCHIN</td>\n",
       "      <td>Gold</td>\n",
       "      <td>4</td>\n",
       "      <td>3412860.60</td>\n",
       "    </tr>\n",
       "    <tr>\n",
       "      <th>132</th>\n",
       "      <td>A42</td>\n",
       "      <td>BOMBAY</td>\n",
       "      <td>Gold</td>\n",
       "      <td>5</td>\n",
       "      <td>3305341.39</td>\n",
       "    </tr>\n",
       "    <tr>\n",
       "      <th>113</th>\n",
       "      <td>A30</td>\n",
       "      <td>BANGALORE</td>\n",
       "      <td>Gold</td>\n",
       "      <td>5</td>\n",
       "      <td>3086549.14</td>\n",
       "    </tr>\n",
       "    <tr>\n",
       "      <th>107</th>\n",
       "      <td>A29</td>\n",
       "      <td>CALCUTTA</td>\n",
       "      <td>Gold</td>\n",
       "      <td>5</td>\n",
       "      <td>2612139.63</td>\n",
       "    </tr>\n",
       "    <tr>\n",
       "      <th>128</th>\n",
       "      <td>A42</td>\n",
       "      <td>BOMBAY</td>\n",
       "      <td>Gold</td>\n",
       "      <td>1</td>\n",
       "      <td>2516249.24</td>\n",
       "    </tr>\n",
       "    <tr>\n",
       "      <th>163</th>\n",
       "      <td>A60</td>\n",
       "      <td>CALCUTTA</td>\n",
       "      <td>Gold</td>\n",
       "      <td>1</td>\n",
       "      <td>2465584.81</td>\n",
       "    </tr>\n",
       "    <tr>\n",
       "      <th>145</th>\n",
       "      <td>A44</td>\n",
       "      <td>DELHI</td>\n",
       "      <td>Gold</td>\n",
       "      <td>1</td>\n",
       "      <td>2415712.91</td>\n",
       "    </tr>\n",
       "    <tr>\n",
       "      <th>0</th>\n",
       "      <td>A1</td>\n",
       "      <td>BANGALORE</td>\n",
       "      <td>Gold</td>\n",
       "      <td>1</td>\n",
       "      <td>2407806.29</td>\n",
       "    </tr>\n",
       "    <tr>\n",
       "      <th>166</th>\n",
       "      <td>A60</td>\n",
       "      <td>CALCUTTA</td>\n",
       "      <td>Gold</td>\n",
       "      <td>4</td>\n",
       "      <td>2397565.91</td>\n",
       "    </tr>\n",
       "    <tr>\n",
       "      <th>100</th>\n",
       "      <td>A28</td>\n",
       "      <td>TRIVANDRUM</td>\n",
       "      <td>Gold</td>\n",
       "      <td>5</td>\n",
       "      <td>2233253.41</td>\n",
       "    </tr>\n",
       "  </tbody>\n",
       "</table>\n",
       "</div>"
      ],
      "text/plain": [
       "    Customer        City Product  repay_month  repay_amount\n",
       "176      A61      COCHIN    Gold            4    3412860.60\n",
       "132      A42      BOMBAY    Gold            5    3305341.39\n",
       "113      A30   BANGALORE    Gold            5    3086549.14\n",
       "107      A29    CALCUTTA    Gold            5    2612139.63\n",
       "128      A42      BOMBAY    Gold            1    2516249.24\n",
       "163      A60    CALCUTTA    Gold            1    2465584.81\n",
       "145      A44       DELHI    Gold            1    2415712.91\n",
       "0         A1   BANGALORE    Gold            1    2407806.29\n",
       "166      A60    CALCUTTA    Gold            4    2397565.91\n",
       "100      A28  TRIVANDRUM    Gold            5    2233253.41"
      ]
     },
     "execution_count": 35,
     "metadata": {},
     "output_type": "execute_result"
    }
   ],
   "source": [
    "prod_cat=str(input('Choose the product name from these options: (Gold/Silver/Platinum)   '))\n",
    "time_period=str(input('Choose time period from these options: (repay_year/repay_month)   '))\n",
    "top_customers(prod_cat,time_period)"
   ]
  }
 ],
 "metadata": {
  "kernelspec": {
   "display_name": "Python 3 (ipykernel)",
   "language": "python",
   "name": "python3"
  },
  "language_info": {
   "codemirror_mode": {
    "name": "ipython",
    "version": 3
   },
   "file_extension": ".py",
   "mimetype": "text/x-python",
   "name": "python",
   "nbconvert_exporter": "python",
   "pygments_lexer": "ipython3",
   "version": "3.11.5"
  }
 },
 "nbformat": 4,
 "nbformat_minor": 5
}
